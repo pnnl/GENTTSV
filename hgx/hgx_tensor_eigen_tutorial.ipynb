{
 "cells": [
  {
   "cell_type": "code",
   "execution_count": 1,
   "metadata": {},
   "outputs": [],
   "source": [
    "import matplotlib.pyplot as plt\n",
    "import networkx as nx\n",
    "import hypergraphx as hgx\n",
    "from utils import *\n",
    "import numpy as np\n",
    "from time import time\n",
    "import scipy\n",
    "\n",
    "from hgx_tensor_algs import *\n",
    "from hgx_tensor_eigs import *"
   ]
  },
  {
   "cell_type": "code",
   "execution_count": 2,
   "metadata": {},
   "outputs": [],
   "source": [
    "scenes = [\n",
    "    ['FN', 'TH'],\n",
    "    ['TH', 'JV'],\n",
    "    ['BM', 'FN', 'JA'],\n",
    "    ['JV', 'JU', 'CH', 'BM'],\n",
    "    ['JU', 'CH', 'BR', 'CN', 'CC', 'JV', 'BM'],\n",
    "    ['TH', 'GP'],\n",
    "    ['GP', 'MP'],\n",
    "    ['MA', 'GP']\n",
    "]\n",
    "\n",
    "h_scene = hgx.Hypergraph(scenes)"
   ]
  },
  {
   "cell_type": "code",
   "execution_count": 3,
   "metadata": {},
   "outputs": [
    {
     "ename": "TypeError",
     "evalue": "'builtin_function_or_method' object is not subscriptable",
     "output_type": "error",
     "traceback": [
      "\u001b[0;31m---------------------------------------------------------------------------\u001b[0m",
      "\u001b[0;31mTypeError\u001b[0m                                 Traceback (most recent call last)",
      "Cell \u001b[0;32mIn [3], line 1\u001b[0m\n\u001b[0;32m----> 1\u001b[0m H, E, r, reverse_node_map \u001b[38;5;241m=\u001b[39m \u001b[43mget_dicts_from_hypergraph\u001b[49m\u001b[43m(\u001b[49m\u001b[43mh_scene\u001b[49m\u001b[43m)\u001b[49m\n\u001b[1;32m      2\u001b[0m H, E, r, reverse_node_map\n",
      "File \u001b[0;32m~/Library/CloudStorage/OneDrive-PNNL/Documents/hyper/tensor-python/hgx_tensor_algs.py:39\u001b[0m, in \u001b[0;36mget_dicts_from_hypergraph\u001b[0;34m(hypergraph)\u001b[0m\n\u001b[1;32m     37\u001b[0m             E[node] \u001b[38;5;241m=\u001b[39m [e]\n\u001b[1;32m     38\u001b[0m         \u001b[38;5;28;01melse\u001b[39;00m:\n\u001b[0;32m---> 39\u001b[0m             \u001b[43mE\u001b[49m\u001b[43m[\u001b[49m\u001b[43mnode\u001b[49m\u001b[43m]\u001b[49m\u001b[38;5;241;43m.\u001b[39;49m\u001b[43mappend\u001b[49m\u001b[43m[\u001b[49m\u001b[43me\u001b[49m\u001b[43m]\u001b[49m\n\u001b[1;32m     40\u001b[0m reverse_node_map \u001b[38;5;241m=\u001b[39m {}\n\u001b[1;32m     41\u001b[0m \u001b[38;5;28;01mfor\u001b[39;00m old_node_label, new_node_label \u001b[38;5;129;01min\u001b[39;00m node_map\u001b[38;5;241m.\u001b[39mitems():\n",
      "\u001b[0;31mTypeError\u001b[0m: 'builtin_function_or_method' object is not subscriptable"
     ]
    }
   ],
   "source": [
    "H, E, r, reverse_node_map = get_dicts_from_hypergraph(h_scene)\n",
    "H, E, r, reverse_node_map"
   ]
  },
  {
   "cell_type": "code",
   "execution_count": 6,
   "metadata": {},
   "outputs": [
    {
     "name": "stdout",
     "output_type": "stream",
     "text": [
      "0 of 199\n",
      "1 of 199\n",
      "2 of 199\n",
      "3 of 199\n",
      "4 of 199\n",
      "5 of 199\n",
      "6 of 199\n",
      "7 of 199\n",
      "8 of 199\n",
      "9 of 199\n",
      "10 of 199\n",
      "11 of 199\n",
      "12 of 199\n",
      "13 of 199\n",
      "14 of 199\n",
      "15 of 199\n",
      "16 of 199\n",
      "17 of 199\n",
      "18 of 199\n",
      "19 of 199\n",
      "20 of 199\n",
      "21 of 199\n",
      "22 of 199\n",
      "23 of 199\n",
      "24 of 199\n",
      "25 of 199\n",
      "26 of 199\n",
      "27 of 199\n",
      "28 of 199\n",
      "29 of 199\n",
      "30 of 199\n",
      "31 of 199\n",
      "32 of 199\n",
      "33 of 199\n",
      "34 of 199\n",
      "35 of 199\n",
      "36 of 199\n",
      "37 of 199\n",
      "38 of 199\n",
      "39 of 199\n",
      "40 of 199\n",
      "41 of 199\n",
      "42 of 199\n",
      "43 of 199\n",
      "44 of 199\n",
      "45 of 199\n",
      "46 of 199\n",
      "47 of 199\n",
      "48 of 199\n",
      "49 of 199\n",
      "50 of 199\n",
      "51 of 199\n",
      "52 of 199\n",
      "53 of 199\n",
      "54 of 199\n",
      "55 of 199\n",
      "56 of 199\n",
      "57 of 199\n",
      "58 of 199\n",
      "59 of 199\n",
      "60 of 199\n"
     ]
    }
   ],
   "source": [
    "h_evec = h_eigen_centrality(h_scene)"
   ]
  },
  {
   "cell_type": "code",
   "execution_count": 7,
   "metadata": {},
   "outputs": [
    {
     "data": {
      "text/plain": [
       "{'FN': 0.083806594394066,\n",
       " 'TH': 0.09711282804954535,\n",
       " 'JV': 0.08777319937549247,\n",
       " 'BM': 0.08094019219287964,\n",
       " 'JA': 0.06851455899358234,\n",
       " 'JU': 0.07592433207554623,\n",
       " 'CH': 0.07592433207554623,\n",
       " 'BR': 0.06561858697676183,\n",
       " 'CN': 0.06561858697676183,\n",
       " 'CC': 0.06561858697676183,\n",
       " 'GP': 0.09094771929168219,\n",
       " 'MP': 0.07110024131068707,\n",
       " 'MA': 0.07110024131068707}"
      ]
     },
     "execution_count": 7,
     "metadata": {},
     "output_type": "execute_result"
    }
   ],
   "source": [
    "h_evec"
   ]
  },
  {
   "cell_type": "code",
   "execution_count": 9,
   "metadata": {},
   "outputs": [
    {
     "name": "stdout",
     "output_type": "stream",
     "text": [
      "0 of 199\n",
      "1 of 199\n",
      "2 of 199\n",
      "3 of 199\n",
      "4 of 199\n",
      "5 of 199\n",
      "6 of 199\n",
      "7 of 199\n",
      "8 of 199\n",
      "9 of 199\n",
      "10 of 199\n",
      "11 of 199\n",
      "12 of 199\n",
      "13 of 199\n",
      "14 of 199\n",
      "15 of 199\n",
      "16 of 199\n",
      "17 of 199\n",
      "18 of 199\n",
      "19 of 199\n",
      "20 of 199\n",
      "21 of 199\n",
      "22 of 199\n",
      "23 of 199\n",
      "24 of 199\n",
      "25 of 199\n",
      "26 of 199\n",
      "27 of 199\n",
      "28 of 199\n",
      "29 of 199\n",
      "30 of 199\n",
      "31 of 199\n",
      "32 of 199\n",
      "33 of 199\n",
      "34 of 199\n",
      "35 of 199\n",
      "36 of 199\n",
      "37 of 199\n",
      "38 of 199\n",
      "39 of 199\n",
      "40 of 199\n",
      "41 of 199\n",
      "42 of 199\n",
      "43 of 199\n",
      "44 of 199\n",
      "45 of 199\n",
      "46 of 199\n",
      "47 of 199\n",
      "48 of 199\n",
      "49 of 199\n",
      "50 of 199\n",
      "51 of 199\n",
      "52 of 199\n"
     ]
    }
   ],
   "source": [
    "z_evec = z_eigen_centrality(h_scene)"
   ]
  },
  {
   "cell_type": "code",
   "execution_count": 10,
   "metadata": {},
   "outputs": [
    {
     "data": {
      "text/plain": [
       "{'FN': 0.008481685997031432,\n",
       " 'TH': 0.48303662800643193,\n",
       " 'JV': 0.008481685997037733,\n",
       " 'BM': 3.247163696021107e-17,\n",
       " 'JA': 3.182293825804466e-17,\n",
       " 'JU': 3.8679667819041005e-17,\n",
       " 'CH': 2.7078674661180154e-17,\n",
       " 'BR': 2.617841962040364e-17,\n",
       " 'CN': 1.3523544128151666e-17,\n",
       " 'CC': 8.558956087097561e-18,\n",
       " 'GP': 0.48303662800614855,\n",
       " 'MP': 0.008481685996675068,\n",
       " 'MA': 0.008481685996675047}"
      ]
     },
     "execution_count": 10,
     "metadata": {},
     "output_type": "execute_result"
    }
   ],
   "source": [
    "z_evec"
   ]
  },
  {
   "cell_type": "code",
   "execution_count": null,
   "metadata": {},
   "outputs": [],
   "source": []
  }
 ],
 "metadata": {
  "kernelspec": {
   "display_name": "Python 3",
   "language": "python",
   "name": "python3"
  },
  "language_info": {
   "codemirror_mode": {
    "name": "ipython",
    "version": 3
   },
   "file_extension": ".py",
   "mimetype": "text/x-python",
   "name": "python",
   "nbconvert_exporter": "python",
   "pygments_lexer": "ipython3",
   "version": "3.10.6"
  }
 },
 "nbformat": 4,
 "nbformat_minor": 2
}
